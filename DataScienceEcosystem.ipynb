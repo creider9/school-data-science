{
 "cells": [
  {
   "cell_type": "markdown",
   "id": "6f45c42d-c715-40ee-8d90-ef4c99310f5c",
   "metadata": {},
   "source": [
    "# Data Science Tools and Ecosystem"
   ]
  },
  {
   "cell_type": "markdown",
   "id": "1b413c80-613d-4385-a405-df40a4e2d9b6",
   "metadata": {},
   "source": [
    "In this notebook, Data Science Tools and Ecosystem are summarized."
   ]
  },
  {
   "cell_type": "markdown",
   "id": "42a3bb84-3df3-4238-9cb5-134b522bee2d",
   "metadata": {},
   "source": [
    "Some of the popular languages that Data Scientists use are:\n",
    "\n",
    "1. Python\n",
    "2. R\n",
    "3. SQL"
   ]
  },
  {
   "cell_type": "markdown",
   "id": "dec09b4a-8186-430a-8feb-11594099fb03",
   "metadata": {},
   "source": [
    "Some of the commonly used libraries used by Data Scientists include:\n",
    "\n",
    "1. NumPy\n",
    "2. Pandas\n",
    "3. Scikit-learn"
   ]
  },
  {
   "cell_type": "markdown",
   "id": "3451916d-7354-433d-997b-b2710efb7347",
   "metadata": {},
   "source": [
    "| Data Science Tools   |\n",
    "|----------------------|\n",
    "| Jupyter Notebook     |\n",
    "| RStudio              |\n",
    "| VS Code with Python  |"
   ]
  },
  {
   "cell_type": "markdown",
   "id": "0f5acb71-20a8-432a-8d5d-8b6cfd3649ac",
   "metadata": {},
   "source": [
    "### Below are a few examples of evaluating arithmetic expressions in Python"
   ]
  },
  {
   "cell_type": "code",
   "execution_count": 3,
   "id": "e8b40282-0a2b-49ab-a83c-27ba698ecd31",
   "metadata": {
    "tags": []
   },
   "outputs": [
    {
     "data": {
      "text/plain": [
       "17"
      ]
     },
     "execution_count": 3,
     "metadata": {},
     "output_type": "execute_result"
    }
   ],
   "source": [
    "# This a simple arithmetic expression to mutiply then add integers\n",
    "\n",
    "test = (3*4) + 5\n",
    "test"
   ]
  },
  {
   "cell_type": "code",
   "execution_count": 4,
   "id": "3d8101d9-3532-41fe-8eaf-76b7e906dcd0",
   "metadata": {
    "tags": []
   },
   "outputs": [
    {
     "data": {
      "text/plain": [
       "3.3333333333333335"
      ]
     },
     "execution_count": 4,
     "metadata": {},
     "output_type": "execute_result"
    }
   ],
   "source": [
    "# This will convert 200 minutes to hours by diving by 60\n",
    "\n",
    "hours = 200/60\n",
    "hours"
   ]
  },
  {
   "cell_type": "markdown",
   "id": "befe3ce7-e602-4452-902e-4e069e6dcdfb",
   "metadata": {},
   "source": [
    "**Objectives:**\n",
    "\n",
    "- List popular languages for Data Science\n",
    "- List popular libraries for Data Science\n",
    "- Table popular Data Science tools\n",
    "- Add and Multiply\n",
    "- Change minutes into hours"
   ]
  },
  {
   "cell_type": "markdown",
   "id": "cf05a27f-025d-4310-82a1-b90cdc96e9aa",
   "metadata": {},
   "source": [
    "## Author:\n",
    "\n",
    "Corey Reid"
   ]
  },
  {
   "cell_type": "code",
   "execution_count": null,
   "id": "9bd8440b-24dd-49f1-9fb7-041bde38a1ad",
   "metadata": {},
   "outputs": [],
   "source": []
  }
 ],
 "metadata": {
  "kernelspec": {
   "display_name": "Python",
   "language": "python",
   "name": "conda-env-python-py"
  },
  "language_info": {
   "codemirror_mode": {
    "name": "ipython",
    "version": 3
   },
   "file_extension": ".py",
   "mimetype": "text/x-python",
   "name": "python",
   "nbconvert_exporter": "python",
   "pygments_lexer": "ipython3",
   "version": "3.7.12"
  }
 },
 "nbformat": 4,
 "nbformat_minor": 5
}
